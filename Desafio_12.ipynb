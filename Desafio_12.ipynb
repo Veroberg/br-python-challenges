{
  "nbformat": 4,
  "nbformat_minor": 0,
  "metadata": {
    "anaconda-cloud": {},
    "kernelspec": {
      "display_name": "Python 3",
      "language": "python",
      "name": "python3"
    },
    "language_info": {
      "codemirror_mode": {
        "name": "ipython",
        "version": 3
      },
      "file_extension": ".py",
      "mimetype": "text/x-python",
      "name": "python",
      "nbconvert_exporter": "python",
      "pygments_lexer": "ipython3",
      "version": "3.6.5"
    },
    "colab": {
      "name": "Desafio 12.ipynb",
      "provenance": [],
      "include_colab_link": true
    }
  },
  "cells": [
    {
      "cell_type": "markdown",
      "metadata": {
        "id": "view-in-github",
        "colab_type": "text"
      },
      "source": [
        "<a href=\"https://colab.research.google.com/github/Veroberg/br-python-challenges/blob/master/Desafio_12.ipynb\" target=\"_parent\"><img src=\"https://colab.research.google.com/assets/colab-badge.svg\" alt=\"Open In Colab\"/></a>"
      ]
    },
    {
      "cell_type": "markdown",
      "metadata": {
        "id": "AYHY2YXQf6J2"
      },
      "source": [
        "### Desafio 12\n",
        "\n",
        "Escreva uma função em Python para verificar a validade de uma senha.\n",
        "\n",
        "Validação:\n",
        "\n",
        "* Pelo menos 1 letra entre [a-z] e 1 letra entre [A-Z].\n",
        "* Pelo menos 1 número entre [0-9].\n",
        "* Pelo menos 1 caractere de [$ # @].\n",
        "* Comprimento mínimo de 6 caracteres.\n",
        "* Comprimento máximo de 16 caracteres.\n",
        "\n",
        "Entradas: \"12345678\", \"J3sus0\", \"#Te5t300\", \"J*90j12374\", \"Michheeul\", \"Monk3y6\"\n",
        "\n",
        "A saída deve ser a senha e um texto indicando se a senha é válida ou inválida:\n",
        "\n",
        "```\n",
        "\"1234\" - Senha inválida\n",
        "\"Qw#1234\" - Senha válida\n",
        "```"
      ]
    },
    {
      "cell_type": "code",
      "metadata": {
        "colab": {
          "base_uri": "https://localhost:8080/"
        },
        "id": "mn41dadUIM8x",
        "outputId": "62f6b42f-d411-46ca-ff23-a676e0fc92e1"
      },
      "source": [
        "#Entrada\r\n",
        "Input :  \"12345678\" \"J3sus0\" \"#Te5t300\" \"J*90j12374\" \"Michheeul\" \"Monk3y6\"\r\n",
        "\r\n",
        "#Saída\r\n",
        "Output : \"1234\" \"Invalid Password !!\"\r\n",
        "\r\n",
        "Output : \"Qw#1234\" \"Password valid\"\r\n",
        "\r\n",
        "# Importação da biblioteca Regex\r\n",
        "import re\r\n",
        "  \r\n",
        "def main(): \r\n",
        "    passwd = \"12345678\" \"J3sus0\" \"#Te5t300\" \"J*90j12374\" \"Michheeul\" \"Monk3y6\"\r\n",
        "    reg = \"^(?=.*[a-z])(?=.*[A-Z])(?=.*\\d)(?=.*[$ # @])[A-Za-z\\d$ # @]{6,16}$\"\r\n",
        "\r\n",
        "#Compilando o Regex      \r\n",
        "    pat = re.compile(reg)\r\n",
        "\r\n",
        "#Pesquisando o Regex\r\n",
        "    mat = re.search(pat, passwd) \r\n",
        "      \r\n",
        "#Validando condições\r\n",
        "    if mat: \r\n",
        "        print(\"Password valid.\") \r\n",
        "    else: \r\n",
        "        print(\"Password invalid !!\") \r\n",
        "  \r\n",
        "# Código    \r\n",
        "if __name__ == '__main__': \r\n",
        "    main() "
      ],
      "execution_count": 142,
      "outputs": [
        {
          "output_type": "stream",
          "text": [
            "Password invalid !!\n"
          ],
          "name": "stdout"
        }
      ]
    }
  ]
}