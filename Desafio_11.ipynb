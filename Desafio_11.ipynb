{
  "nbformat": 4,
  "nbformat_minor": 0,
  "metadata": {
    "anaconda-cloud": {},
    "kernelspec": {
      "display_name": "Python 3",
      "language": "python",
      "name": "python3"
    },
    "language_info": {
      "codemirror_mode": {
        "name": "ipython",
        "version": 3
      },
      "file_extension": ".py",
      "mimetype": "text/x-python",
      "name": "python",
      "nbconvert_exporter": "python",
      "pygments_lexer": "ipython3",
      "version": "3.6.5"
    },
    "colab": {
      "name": "Desafio 11.ipynb",
      "provenance": [],
      "include_colab_link": true
    }
  },
  "cells": [
    {
      "cell_type": "markdown",
      "metadata": {
        "id": "view-in-github",
        "colab_type": "text"
      },
      "source": [
        "<a href=\"https://colab.research.google.com/github/Veroberg/br-python-challenges/blob/master/Desafio_11.ipynb\" target=\"_parent\"><img src=\"https://colab.research.google.com/assets/colab-badge.svg\" alt=\"Open In Colab\"/></a>"
      ]
    },
    {
      "cell_type": "markdown",
      "metadata": {
        "id": "y1R0m4oWf6Jz"
      },
      "source": [
        "### Desafio 8\n",
        "Dados uma sequência com `n` números inteiros, determinar quantos números da sequência são pares e quantos são ímpares. Por exemplo, para a sequência\n",
        "\n",
        "`6   2   7  -5   8  -4`\n",
        "\n",
        "a sua função deve retornar o número 4 para o número de pares e 2 para o de ímpares. A saída deve ser um tupla contendo primeiramente o número de pares e em seguida o número de ímpares. Para o exemplo anterior, a saída seria `(4, 2)`."
      ]
    },
    {
      "cell_type": "code",
      "metadata": {
        "id": "BSuBza0GSjyM",
        "colab": {
          "base_uri": "https://localhost:8080/"
        },
        "outputId": "e1d13b52-3669-4a84-d91a-4bbfda727818"
      },
      "source": [
        "def pares_impares(entrada):\r\n",
        "  \r\n",
        "    cont_par = cont_impar = 0 #contagem de número pares\r\n",
        "    for item in entrada:\r\n",
        "        if item % 2 == 0:\r\n",
        "            cont_par += 1\r\n",
        "        else:\r\n",
        "            cont_impar += 1 #sequenciando e agora os números ímpares\r\n",
        "    return cont_par, cont_impar #retorno destes números\r\n",
        "\r\n",
        "\r\n",
        "valores = list(map(int, input('Digite todos os valores: ').split())) #gerando a lista de números a serem contados\r\n",
        "\r\n",
        "cont_pares, cont_impares = pares_impares(valores) #ocorrendo a contagem de números pares e ímpares\r\n",
        "\r\n",
        "print(f'A quantidade de números pares é: {cont_pares}') #resultado da quantidade de números pares\r\n",
        "print(f'A quantidade de números ímpares é: {cont_impares}') #resultado da quantidade de números ímpares"
      ],
      "execution_count": 12,
      "outputs": [
        {
          "output_type": "stream",
          "text": [
            "Digite todos os valores: 12 36 4 8 1 3\n",
            "A quantidade de números pares é: 4\n",
            "A quantidade de números ímpares é: 2\n"
          ],
          "name": "stdout"
        }
      ]
    }
  ]
}