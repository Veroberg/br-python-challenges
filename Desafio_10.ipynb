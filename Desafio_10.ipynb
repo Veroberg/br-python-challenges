{
  "nbformat": 4,
  "nbformat_minor": 0,
  "metadata": {
    "anaconda-cloud": {},
    "kernelspec": {
      "display_name": "Python 3",
      "language": "python",
      "name": "python3"
    },
    "language_info": {
      "codemirror_mode": {
        "name": "ipython",
        "version": 3
      },
      "file_extension": ".py",
      "mimetype": "text/x-python",
      "name": "python",
      "nbconvert_exporter": "python",
      "pygments_lexer": "ipython3",
      "version": "3.6.5"
    },
    "colab": {
      "name": "Desafio 10.ipynb",
      "provenance": [],
      "include_colab_link": true
    }
  },
  "cells": [
    {
      "cell_type": "markdown",
      "metadata": {
        "id": "view-in-github",
        "colab_type": "text"
      },
      "source": [
        "<a href=\"https://colab.research.google.com/github/Veroberg/br-python-challenges/blob/master/Desafio_10.ipynb\" target=\"_parent\"><img src=\"https://colab.research.google.com/assets/colab-badge.svg\" alt=\"Open In Colab\"/></a>"
      ]
    },
    {
      "cell_type": "markdown",
      "metadata": {
        "id": "a4-FLDRof6Jv"
      },
      "source": [
        "### Desafio 10\n",
        "\n",
        "Dada uma lista, divida-a em 3 partes iguais e reverta cada lista.\n",
        "\n",
        "Exemplo: \n",
        "\n",
        "sampleList = [11, 45, 8, 23, 14, 12, 78, 45, 89]\n",
        "\n",
        "Parte 1 [8, 45, 11]\n",
        "\n",
        "Parte 2 [12, 14, 23]\n",
        "\n",
        "Parte 3 [89, 45, 78]"
      ]
    },
    {
      "cell_type": "code",
      "metadata": {
        "id": "IJ70pUjnf6Jw",
        "colab": {
          "base_uri": "https://localhost:8080/"
        },
        "outputId": "cf59aca9-8129-43de-f597-565ea73dbed4"
      },
      "source": [
        "ln = [\"83\",\"38\",\"09\",\"29\",\"01\",\"82\"] #ln = Lista de números\r\n",
        "print(ln[0:2], ln[2:4], ln[4:6]) #Separação dos elementos em partes iguais"
      ],
      "execution_count": 2,
      "outputs": [
        {
          "output_type": "stream",
          "text": [
            "['83', '38'] ['09', '29'] ['01', '82']\n"
          ],
          "name": "stdout"
        }
      ]
    },
    {
      "cell_type": "code",
      "metadata": {
        "id": "pNrXNVqf8Wc1",
        "colab": {
          "base_uri": "https://localhost:8080/"
        },
        "outputId": "9948cb37-6bec-4da6-9ecb-96706d4f239e"
      },
      "source": [
        "lista1 = ['83', '38'] #Revertendo lista 1\r\n",
        "lista1.reverse()\r\n",
        "lista1"
      ],
      "execution_count": 3,
      "outputs": [
        {
          "output_type": "execute_result",
          "data": {
            "text/plain": [
              "['38', '83']"
            ]
          },
          "metadata": {
            "tags": []
          },
          "execution_count": 3
        }
      ]
    },
    {
      "cell_type": "code",
      "metadata": {
        "id": "NDM1X0rvaRmX",
        "outputId": "3ff6bde6-2569-4a60-f333-806debb6acc9",
        "colab": {
          "base_uri": "https://localhost:8080/"
        }
      },
      "source": [
        "lista2 = ['09', '29'] #Revertendo lista2\r\n",
        "lista2.reverse()\r\n",
        "lista2"
      ],
      "execution_count": 4,
      "outputs": [
        {
          "output_type": "execute_result",
          "data": {
            "text/plain": [
              "['29', '09']"
            ]
          },
          "metadata": {
            "tags": []
          },
          "execution_count": 4
        }
      ]
    },
    {
      "cell_type": "code",
      "metadata": {
        "id": "rEZd711yaU9f",
        "outputId": "2b982d2b-f479-4b3a-d53d-33f60578e1ca",
        "colab": {
          "base_uri": "https://localhost:8080/"
        }
      },
      "source": [
        "lista3 = ['01', '82'] #Revertendo lista3\r\n",
        "lista3.reverse()\r\n",
        "lista3"
      ],
      "execution_count": 5,
      "outputs": [
        {
          "output_type": "execute_result",
          "data": {
            "text/plain": [
              "['82', '01']"
            ]
          },
          "metadata": {
            "tags": []
          },
          "execution_count": 5
        }
      ]
    }
  ]
}