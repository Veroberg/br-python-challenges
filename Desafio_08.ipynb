{
  "nbformat": 4,
  "nbformat_minor": 0,
  "metadata": {
    "anaconda-cloud": {},
    "kernelspec": {
      "display_name": "Python 3",
      "language": "python",
      "name": "python3"
    },
    "language_info": {
      "codemirror_mode": {
        "name": "ipython",
        "version": 3
      },
      "file_extension": ".py",
      "mimetype": "text/x-python",
      "name": "python",
      "nbconvert_exporter": "python",
      "pygments_lexer": "ipython3",
      "version": "3.6.5"
    },
    "colab": {
      "name": "Desafio 8.ipynb",
      "provenance": [],
      "include_colab_link": true
    }
  },
  "cells": [
    {
      "cell_type": "markdown",
      "metadata": {
        "id": "view-in-github",
        "colab_type": "text"
      },
      "source": [
        "<a href=\"https://colab.research.google.com/github/Veroberg/br-python-challenges/blob/master/Desafio_08.ipynb\" target=\"_parent\"><img src=\"https://colab.research.google.com/assets/colab-badge.svg\" alt=\"Open In Colab\"/></a>"
      ]
    },
    {
      "cell_type": "markdown",
      "metadata": {
        "id": "o3tkeMDNf6Jo"
      },
      "source": [
        "### Desafio 8\n",
        "\n",
        "Escreva um script Python para encontrar as 10 palavras mais longas em um arquivo.\n",
        "\n",
        "O arquivo TXT está localizado na mesma pasta do projeto (texto.txt)."
      ]
    },
    {
      "cell_type": "code",
      "metadata": {
        "id": "6LnlXICFDYxg",
        "outputId": "477fdfb0-75a8-4022-efea-dec6a3331d0d",
        "colab": {
          "base_uri": "https://localhost:8080/"
        }
      },
      "source": [
        "frase = input('Digite a frase: ').split()\r\n",
        "tam_palavras = list()\r\n",
        "for palavra in frase:\r\n",
        "    tam_palavras.append(len(palavra))\r\n",
        "\r\n",
        "maiores = max(tam_palavras)\r\n",
        "print('As dez maiores palavras:')\r\n",
        "for a, b in zip(frase, tam_palavras):\r\n",
        "    if b == maiores:\r\n",
        "        print(a)"
      ],
      "execution_count": 36,
      "outputs": [
        {
          "output_type": "stream",
          "text": [
            "Digite a frase: Um colhedor de frutas, verduras e legumes, usou diversos machados para colher e jardinar os jardins dos vizinhos com a intenção de promover uma corrente do bem\n",
            "As dez maiores palavras:\n",
            "colhedor\n",
            "verduras\n",
            "legumes,\n",
            "diversos\n",
            "machados\n",
            "jardinar\n",
            "vizinhos\n",
            "intenção\n",
            "promover\n",
            "corrente\n"
          ],
          "name": "stdout"
        }
      ]
    }
  ]
}